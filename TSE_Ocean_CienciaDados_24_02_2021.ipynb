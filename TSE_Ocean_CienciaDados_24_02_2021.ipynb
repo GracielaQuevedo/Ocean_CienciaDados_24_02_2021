{
  "nbformat": 4,
  "nbformat_minor": 0,
  "metadata": {
    "colab": {
      "name": "TSE_Ocean_CienciaDados_24_02_2021.ipynb",
      "provenance": [],
      "authorship_tag": "ABX9TyPqnJkJBw3wTJe7oXouWBKY",
      "include_colab_link": true
    },
    "kernelspec": {
      "name": "python3",
      "display_name": "Python 3"
    }
  },
  "cells": [
    {
      "cell_type": "markdown",
      "metadata": {
        "id": "view-in-github",
        "colab_type": "text"
      },
      "source": [
        "<a href=\"https://colab.research.google.com/github/paulosalvatore/Ocean_CienciaDados_24_02_2021/blob/main/TSE_Ocean_CienciaDados_24_02_2021.ipynb\" target=\"_parent\"><img src=\"https://colab.research.google.com/assets/colab-badge.svg\" alt=\"Open In Colab\"/></a>"
      ]
    },
    {
      "cell_type": "code",
      "metadata": {
        "id": "kTtK8e0PVAgV"
      },
      "source": [
        "import pandas as pd\r\n",
        "\r\n",
        "sigla_uf = 'AL'\r\n",
        "\r\n",
        "nome_arquivo = f'receitas_candidatos_2018_{sigla_uf}.csv'\r\n",
        "url_arquivo = f'https://raw.githubusercontent.com/paulosalvatore/Ocean_CienciaDados_24_02_2021/main/receitas_candidatos/{nome_arquivo}'\r\n",
        "\r\n",
        "df = pd.read_csv(url_arquivo, sep=';', encoding='latin-1', decimal=',')"
      ],
      "execution_count": 35,
      "outputs": []
    },
    {
      "cell_type": "code",
      "metadata": {
        "id": "mb_Z6zBHXxyV"
      },
      "source": [
        "df"
      ],
      "execution_count": null,
      "outputs": []
    },
    {
      "cell_type": "code",
      "metadata": {
        "id": "Pa-GTqVBYvQY"
      },
      "source": [
        "colunas = ['SQ_CANDIDATO', 'NM_CANDIDATO', 'VR_RECEITA']\r\n",
        "df_filtrado = df[colunas]"
      ],
      "execution_count": 36,
      "outputs": []
    },
    {
      "cell_type": "code",
      "metadata": {
        "colab": {
          "base_uri": "https://localhost:8080/"
        },
        "id": "WCUK1QkwZSsg",
        "outputId": "6cd244ae-09d5-4f6f-f222-cc89a5dc2f17"
      },
      "source": [
        "len(df_filtrado.SQ_CANDIDATO.unique())"
      ],
      "execution_count": 37,
      "outputs": [
        {
          "output_type": "execute_result",
          "data": {
            "text/plain": [
              "376"
            ]
          },
          "metadata": {
            "tags": []
          },
          "execution_count": 37
        }
      ]
    },
    {
      "cell_type": "code",
      "metadata": {
        "colab": {
          "base_uri": "https://localhost:8080/"
        },
        "id": "feLzC9LhZg-4",
        "outputId": "17588f7f-001c-49b8-a3cd-7881d35166e1"
      },
      "source": [
        "len(df_filtrado.NM_CANDIDATO.unique())"
      ],
      "execution_count": 38,
      "outputs": [
        {
          "output_type": "execute_result",
          "data": {
            "text/plain": [
              "376"
            ]
          },
          "metadata": {
            "tags": []
          },
          "execution_count": 38
        }
      ]
    },
    {
      "cell_type": "code",
      "metadata": {
        "colab": {
          "base_uri": "https://localhost:8080/"
        },
        "id": "47cVneRbZ21u",
        "outputId": "3c628b2e-03f7-4eb6-aee2-7600f5207b50"
      },
      "source": [
        "group = df_filtrado.groupby(['SQ_CANDIDATO', 'NM_CANDIDATO'])\r\n",
        "\r\n",
        "group.SQ_CANDIDATO.count()"
      ],
      "execution_count": 39,
      "outputs": [
        {
          "output_type": "execute_result",
          "data": {
            "text/plain": [
              "SQ_CANDIDATO  NM_CANDIDATO                                  \n",
              "20000600622   ADELMO JOSÉ SILVA DE ASSIS                         4\n",
              "20000600623   MARIA TAVARES FERRO                               37\n",
              "20000600624   TIBÉRIO DA SILVA ROCHA JÚNIOR                      3\n",
              "20000602675   FLAVIA MARIA LUIZ DE MENDONÇA ALBUQUERQUE REIS     6\n",
              "20000602676   HELOISA HELENA LIMA DE MORAES CARVALHO             5\n",
              "                                                                ..\n",
              "20000629335   THIAGO DOS ANJOS PEREIRA E SILVA                   3\n",
              "20000629456   FRANCISCO JOSÉ DA SILVA                           15\n",
              "20000629503   MOACYR LOPES DE ANDRADE FILHO                      4\n",
              "20000630007   JOSÉ PINTO DE LUNA                                 4\n",
              "20000630049   MARCOS ANTONIO MACEDO HOLANDA                      4\n",
              "Name: SQ_CANDIDATO, Length: 376, dtype: int64"
            ]
          },
          "metadata": {
            "tags": []
          },
          "execution_count": 39
        }
      ]
    }
  ]
}