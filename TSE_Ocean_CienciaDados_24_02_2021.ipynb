{
  "nbformat": 4,
  "nbformat_minor": 0,
  "metadata": {
    "colab": {
      "name": "TSE_Ocean_CienciaDados_24_02_2021.ipynb",
      "provenance": [],
      "authorship_tag": "ABX9TyNJGMBwPVN8J52py+94Usw5",
      "include_colab_link": true
    },
    "kernelspec": {
      "name": "python3",
      "display_name": "Python 3"
    }
  },
  "cells": [
    {
      "cell_type": "markdown",
      "metadata": {
        "id": "view-in-github",
        "colab_type": "text"
      },
      "source": [
        "<a href=\"https://colab.research.google.com/github/paulosalvatore/Ocean_CienciaDados_24_02_2021/blob/main/TSE_Ocean_CienciaDados_24_02_2021.ipynb\" target=\"_parent\"><img src=\"https://colab.research.google.com/assets/colab-badge.svg\" alt=\"Open In Colab\"/></a>"
      ]
    },
    {
      "cell_type": "code",
      "metadata": {
        "id": "kTtK8e0PVAgV"
      },
      "source": [
        "import pandas as pd\r\n",
        "\r\n",
        "sigla_uf = 'AL'\r\n",
        "\r\n",
        "nome_arquivo = f'receitas_candidatos_2018_{sigla_uf}.csv'\r\n",
        "url_arquivo = f'https://raw.githubusercontent.com/paulosalvatore/Ocean_CienciaDados_24_02_2021/main/receitas_candidatos/{nome_arquivo}'\r\n",
        "\r\n",
        "df = pd.read_csv(url_arquivo, sep=';', encoding='latin-1', decimal=',')"
      ],
      "execution_count": 35,
      "outputs": []
    },
    {
      "cell_type": "code",
      "metadata": {
        "id": "mb_Z6zBHXxyV"
      },
      "source": [
        "df"
      ],
      "execution_count": null,
      "outputs": []
    },
    {
      "cell_type": "code",
      "metadata": {
        "id": "Pa-GTqVBYvQY"
      },
      "source": [
        "colunas = ['SQ_CANDIDATO', 'NM_CANDIDATO', 'VR_RECEITA']\r\n",
        "df_filtrado = df[colunas]"
      ],
      "execution_count": 36,
      "outputs": []
    },
    {
      "cell_type": "code",
      "metadata": {
        "colab": {
          "base_uri": "https://localhost:8080/"
        },
        "id": "WCUK1QkwZSsg",
        "outputId": "6cd244ae-09d5-4f6f-f222-cc89a5dc2f17"
      },
      "source": [
        "len(df_filtrado.SQ_CANDIDATO.unique())"
      ],
      "execution_count": 37,
      "outputs": [
        {
          "output_type": "execute_result",
          "data": {
            "text/plain": [
              "376"
            ]
          },
          "metadata": {
            "tags": []
          },
          "execution_count": 37
        }
      ]
    },
    {
      "cell_type": "code",
      "metadata": {
        "colab": {
          "base_uri": "https://localhost:8080/"
        },
        "id": "feLzC9LhZg-4",
        "outputId": "17588f7f-001c-49b8-a3cd-7881d35166e1"
      },
      "source": [
        "len(df_filtrado.NM_CANDIDATO.unique())"
      ],
      "execution_count": 38,
      "outputs": [
        {
          "output_type": "execute_result",
          "data": {
            "text/plain": [
              "376"
            ]
          },
          "metadata": {
            "tags": []
          },
          "execution_count": 38
        }
      ]
    },
    {
      "cell_type": "code",
      "metadata": {
        "colab": {
          "base_uri": "https://localhost:8080/"
        },
        "id": "47cVneRbZ21u",
        "outputId": "3c628b2e-03f7-4eb6-aee2-7600f5207b50"
      },
      "source": [
        "group = df_filtrado.groupby(['SQ_CANDIDATO', 'NM_CANDIDATO'])\r\n",
        "\r\n",
        "group.SQ_CANDIDATO.count()"
      ],
      "execution_count": 39,
      "outputs": [
        {
          "output_type": "execute_result",
          "data": {
            "text/plain": [
              "SQ_CANDIDATO  NM_CANDIDATO                                  \n",
              "20000600622   ADELMO JOSÉ SILVA DE ASSIS                         4\n",
              "20000600623   MARIA TAVARES FERRO                               37\n",
              "20000600624   TIBÉRIO DA SILVA ROCHA JÚNIOR                      3\n",
              "20000602675   FLAVIA MARIA LUIZ DE MENDONÇA ALBUQUERQUE REIS     6\n",
              "20000602676   HELOISA HELENA LIMA DE MORAES CARVALHO             5\n",
              "                                                                ..\n",
              "20000629335   THIAGO DOS ANJOS PEREIRA E SILVA                   3\n",
              "20000629456   FRANCISCO JOSÉ DA SILVA                           15\n",
              "20000629503   MOACYR LOPES DE ANDRADE FILHO                      4\n",
              "20000630007   JOSÉ PINTO DE LUNA                                 4\n",
              "20000630049   MARCOS ANTONIO MACEDO HOLANDA                      4\n",
              "Name: SQ_CANDIDATO, Length: 376, dtype: int64"
            ]
          },
          "metadata": {
            "tags": []
          },
          "execution_count": 39
        }
      ]
    },
    {
      "cell_type": "code",
      "metadata": {
        "colab": {
          "base_uri": "https://localhost:8080/"
        },
        "id": "Cho5uVs1aNVp",
        "outputId": "5ec013df-1c0a-42c0-977e-5d5757491f62"
      },
      "source": [
        "group_sum = group.VR_RECEITA.sum()\r\n",
        "\r\n",
        "group_sum"
      ],
      "execution_count": 45,
      "outputs": [
        {
          "output_type": "execute_result",
          "data": {
            "text/plain": [
              "SQ_CANDIDATO  NM_CANDIDATO                                  \n",
              "20000600622   ADELMO JOSÉ SILVA DE ASSIS                          2529.01\n",
              "20000600623   MARIA TAVARES FERRO                                48714.45\n",
              "20000600624   TIBÉRIO DA SILVA ROCHA JÚNIOR                       7299.16\n",
              "20000602675   FLAVIA MARIA LUIZ DE MENDONÇA ALBUQUERQUE REIS      5871.00\n",
              "20000602676   HELOISA HELENA LIMA DE MORAES CARVALHO            737000.00\n",
              "                                                                  ...    \n",
              "20000629335   THIAGO DOS ANJOS PEREIRA E SILVA                    5606.00\n",
              "20000629456   FRANCISCO JOSÉ DA SILVA                            39347.45\n",
              "20000629503   MOACYR LOPES DE ANDRADE FILHO                      67531.94\n",
              "20000630007   JOSÉ PINTO DE LUNA                                110400.00\n",
              "20000630049   MARCOS ANTONIO MACEDO HOLANDA                      31260.00\n",
              "Name: VR_RECEITA, Length: 376, dtype: float64"
            ]
          },
          "metadata": {
            "tags": []
          },
          "execution_count": 45
        }
      ]
    },
    {
      "cell_type": "code",
      "metadata": {
        "colab": {
          "base_uri": "https://localhost:8080/"
        },
        "id": "LtkCwXF3aaBm",
        "outputId": "a459bf90-089a-4d14-a355-7b6a8dd8c921"
      },
      "source": [
        "target = group_sum.nlargest(10)\r\n",
        "\r\n",
        "target"
      ],
      "execution_count": 47,
      "outputs": [
        {
          "output_type": "execute_result",
          "data": {
            "text/plain": [
              "SQ_CANDIDATO  NM_CANDIDATO                        \n",
              "20000621740   MAURÍCIO QUINTELLA MALTA LESSA          2996680.12\n",
              "20000621738   JOSÉ RENAN VASCONCELOS CALHEIROS        2573114.22\n",
              "20000616688   BENEDITO DE LIRA                        2200806.62\n",
              "20000616686   RODRIGO SANTOS CUNHA                    1878652.57\n",
              "20000616797   ARTHUR CESAR PEREIRA DE LIRA            1741793.16\n",
              "20000621935   SERGIO TOLEDO DE ALBUQUERQUE            1458222.68\n",
              "20000616803   JOÃO HENRIQUE HOLANDA CALDAS            1395400.00\n",
              "20000616809   PEDRO TORRES BRANDAO VILELA             1358975.09\n",
              "20000621947   NIVALDO FERREIRA DE ALBUQUERQUE NETO    1282622.50\n",
              "20000621941   MARX BELTRÃO LIMA SIQUEIRA              1073621.94\n",
              "Name: VR_RECEITA, dtype: float64"
            ]
          },
          "metadata": {
            "tags": []
          },
          "execution_count": 47
        }
      ]
    },
    {
      "cell_type": "code",
      "metadata": {
        "id": "pXzTHaS0bE-L"
      },
      "source": [
        ""
      ],
      "execution_count": null,
      "outputs": []
    }
  ]
}